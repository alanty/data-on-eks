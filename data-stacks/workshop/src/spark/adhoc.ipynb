{
 "cells": [
  {
   "cell_type": "code",
   "execution_count": null,
   "id": "2762fee6-381d-445b-9f7a-90b3abe10660",
   "metadata": {},
   "outputs": [],
   "source": [
    "from pyspark.sql import SparkSession\n",
    "import os\n",
    "\n",
    "\n",
    "# packages = \"org.apache.iceberg:iceberg-spark:1.10.0,org.apache.iceberg:iceberg-spark-runtime-4.0_2.13:1.10.0,org.apache.iceberg:iceberg-spark-extensions-4.0_2.13:1.10.0,com.amazonaws:aws-java-sdk-bundle:1.12.791,software.amazon.awssdk:bundle:2.34.0,org.apache.hadoop:hadoop-aws:3.4.1\"\n",
    "spark = SparkSession.builder \\\n",
    "    .appName(\"IcebergInspector\") \\\n",
    "    .config(\"spark.sql.catalog.spark_catalog\", \"org.apache.iceberg.spark.SparkCatalog\") \\\n",
    "    .config(\"spark.sql.catalog.spark_catalog.type\", \"glue\") \\\n",
    "    .config(\"spark.sql.extensions\", \"org.apache.iceberg.spark.extensions.IcebergSparkSessionExtensions\") \\\n",
    "    .config(\"spark.sql.defaultCatalog\", \"spark_catalog\") \\\n",
    "    .config(\"spark.sql.catalog.spark_catalog.warehouse\", \"s3a://data-on-eks-spark-logs-20251001184655839600000005/iceberg-warehouse/\") \\\n",
    "    .config(\"spark.hadoop.fs.s3a.impl\", \"org.apache.hadoop.fs.s3a.S3AFileSystem\").getOrCreate()\n",
    "    # .config(\"spark.sql.catalog.spark_catalog.io-impl\", \"org.apache.iceberg.aws.s3.S3FileIO\") \\\n",
    "\n",
    "\n",
    "spark.sparkContext.setLogLevel(\"DEBUG\")"
   ]
  },
  {
   "cell_type": "code",
   "execution_count": null,
   "id": "8b76b4da-fae0-4076-ba0f-d31e330299c0",
   "metadata": {
    "scrolled": true
   },
   "outputs": [
    {
     "name": "stdout",
     "output_type": "stream",
     "text": [
      "+----------------+--------------------+-----------+\n",
      "|       namespace|           tableName|isTemporary|\n",
      "+----------------+--------------------+-----------+\n",
      "|default_database|   cat_locations_raw|      false|\n",
      "|default_database|visitor_checkins_raw|      false|\n",
      "|default_database|    cat_wellness_raw|      false|\n",
      "|default_database|     cafe_orders_raw|      false|\n",
      "|default_database|cat_interactions_raw|      false|\n",
      "+----------------+--------------------+-----------+\n",
      "\n",
      "+--------------------+--------------------+----------------+\n",
      "|          event_time|              cat_id|        location|\n",
      "+--------------------+--------------------+----------------+\n",
      "|2025-09-30T01:50:...|1b2fbc8d-43d7-45f...|    cat_tree_top|\n",
      "|2025-09-30T01:50:...|c6897dc0-f452-48f...|   counter_stool|\n",
      "|2025-09-30T01:50:...|5d51794d-6ffd-47e...|   reading_chair|\n",
      "|2025-09-30T01:50:...|6ff62c72-5ed6-475...| feeding_station|\n",
      "|2025-09-30T01:50:...|eb540a05-1c62-487...|southwest_window|\n",
      "|2025-09-30T01:50:...|af5555e1-23b7-47b...|southwest_window|\n",
      "|2025-09-30T01:50:...|9a29f615-42f3-49e...| corner_hideaway|\n",
      "|2025-09-30T01:50:...|c3f6773e-dce7-40e...| cushioned_bench|\n",
      "|2025-09-30T01:50:...|d521dc2d-7ee7-42e...|       cozy_nook|\n",
      "|2025-09-30T01:50:...|d2ee080a-36fa-447...| cushioned_bench|\n",
      "|2025-09-30T01:50:...|40557ca3-adfb-4c2...|    cat_tree_top|\n",
      "|2025-09-30T01:50:...|16bb792d-9d28-4d8...|  entrance_couch|\n",
      "|2025-09-30T01:50:...|ad93aa90-d975-40c...|  entrance_couch|\n",
      "|2025-09-30T01:50:...|9c5d79f5-a196-4cd...|   counter_stool|\n",
      "|2025-09-30T01:50:...|2530e14a-6aa7-4bd...|       cozy_nook|\n",
      "|2025-09-30T01:50:...|0b90d9d4-50e0-4be...|    sunny_corner|\n",
      "|2025-09-30T01:50:...|3632d00e-2422-41d...|    window_perch|\n",
      "|2025-09-30T01:50:...|99aa47c8-d829-4a3...|cafe_table_under|\n",
      "|2025-09-30T01:50:...|43c4789f-68dd-425...|    cat_tree_top|\n",
      "|2025-09-30T01:50:...|6c94a570-06b5-4ab...|southwest_window|\n",
      "+--------------------+--------------------+----------------+\n",
      "only showing top 20 rows\n"
     ]
    }
   ],
   "source": [
    "spark.sql(\"show databases\").show()\n",
    "spark.sql(\"use data_on_eks\").show()\n",
    "spark.sql(\"show tables\").show()\n",
    "# spark.sql(\"SELECT * FROM cat_locations_raw\").show()\n",
    "# spark.sql(\"CALL spark_catalog.system.compute_table_stats('spark_catalog.default_database.cat_interactions_sink')\")"
   ]
  },
  {
   "cell_type": "code",
   "execution_count": null,
   "id": "c034a391-c6c7-4e67-a4b5-3ed9fcd8b1a1",
   "metadata": {},
   "outputs": [
    {
     "name": "stdout",
     "output_type": "stream",
     "text": [
      "+--------------------+----------+\n",
      "|              cat_id|like_count|\n",
      "+--------------------+----------+\n",
      "|d10aa663-8181-4bd...|         2|\n",
      "|faedb29e-347f-4fb...|         2|\n",
      "|df02677b-fe73-44a...|         2|\n",
      "|06903bbb-d833-47d...|         2|\n",
      "|639b5649-0afa-48b...|         2|\n",
      "|e61d0fb2-7bf1-403...|         2|\n",
      "|4211416e-0fe0-408...|         2|\n",
      "|f9f699ef-c31d-406...|         2|\n",
      "|0d92ae1a-4063-48d...|         2|\n",
      "|9aac6583-d104-41a...|         2|\n",
      "+--------------------+----------+\n",
      "\n"
     ]
    }
   ],
   "source": [
    "spark.sql(\"\"\"\n",
    "SELECT\n",
    "    *\n",
    "FROM\n",
    "    spark_catalog.data_on_eks.cat_locations_raw.files\n",
    "\"\"\").show()"
   ]
  },
  {
   "cell_type": "code",
   "execution_count": 9,
   "id": "fba543ab-1487-4e31-9a0d-5b768a453c32",
   "metadata": {},
   "outputs": [
    {
     "name": "stdout",
     "output_type": "stream",
     "text": [
      "+--------------------+-----------+-----------------+\n",
      "|          visitor_id|total_spent|interaction_count|\n",
      "+--------------------+-----------+-----------------+\n",
      "|1cf9d09b-e3ac-4c2...|     121.02|               56|\n",
      "|c769a763-38b0-4f0...|      99.93|               58|\n",
      "|cb3d930c-4e45-449...|      95.92|               34|\n",
      "|6aafcf40-bd7b-4dc...|      85.53|               25|\n",
      "|6f919bde-89f7-44f...|      78.51|               52|\n",
      "|95c88c73-b615-4df...|      71.61|               10|\n",
      "|2a189d80-6cd9-43f...|      71.39|               30|\n",
      "|91c12fb9-fe73-4ae...|      68.16|               45|\n",
      "|fbd34de9-41f1-44b...|      66.61|               45|\n",
      "|0bd40fb6-0a1f-4cf...|      61.65|               26|\n",
      "|d30eb388-ec93-474...|      61.57|               28|\n",
      "|468e0326-627a-493...|      61.10|               33|\n",
      "|c2ba9287-2dc6-48b...|      57.41|               27|\n",
      "|3f74fa8f-53d1-42f...|      57.07|               33|\n",
      "|736b8943-1d8e-477...|      56.78|               38|\n",
      "|0b432d2a-7bcb-42c...|      55.71|               82|\n",
      "|9d9bc344-a0c1-4a7...|      55.70|               36|\n",
      "|82cce985-feee-4d1...|      50.97|               20|\n",
      "|4e23ff4d-57f3-4bb...|      49.80|               51|\n",
      "|b286f41b-0dd7-4a4...|      47.74|               24|\n",
      "+--------------------+-----------+-----------------+\n",
      "\n"
     ]
    }
   ],
   "source": [
    "\n",
    "spark.sql(\"\"\"\n",
    "WITH visitor_spending AS (\n",
    "  SELECT\n",
    "    visitor_id,\n",
    "    SUM(total_amount) AS total_spent\n",
    "  FROM\n",
    "    cafe_orders_raw\n",
    "  GROUP BY\n",
    "    visitor_id\n",
    "),\n",
    "visitor_interactions AS (\n",
    "  SELECT\n",
    "    visitor_id,\n",
    "    COUNT(*) AS interaction_count\n",
    "  FROM\n",
    "    cat_interactions_raw\n",
    "  GROUP BY\n",
    "    visitor_id\n",
    ")\n",
    "SELECT\n",
    "  s.visitor_id,\n",
    "  s.total_spent,\n",
    "  i.interaction_count\n",
    "FROM\n",
    "  visitor_spending s\n",
    "JOIN\n",
    "  visitor_interactions i ON s.visitor_id = i.visitor_id\n",
    "ORDER BY\n",
    "  s.total_spent DESC\n",
    "LIMIT 20\n",
    "\"\"\").show()"
   ]
  },
  {
   "cell_type": "code",
   "execution_count": null,
   "id": "62fa1ab1-5c51-4569-baf2-fc89c06cd483",
   "metadata": {},
   "outputs": [],
   "source": []
  }
 ],
 "metadata": {
  "kernelspec": {
   "display_name": "Python 3 (ipykernel)",
   "language": "python",
   "name": "python3"
  },
  "language_info": {
   "codemirror_mode": {
    "name": "ipython",
    "version": 3
   },
   "file_extension": ".py",
   "mimetype": "text/x-python",
   "name": "python",
   "nbconvert_exporter": "python",
   "pygments_lexer": "ipython3",
   "version": "3.13.7"
  }
 },
 "nbformat": 4,
 "nbformat_minor": 5
}
